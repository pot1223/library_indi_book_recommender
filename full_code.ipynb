{
 "cells": [
  {
   "cell_type": "markdown",
   "metadata": {},
   "source": [
    "## 도서관데이터활용 공모전 전체 코드 "
   ]
  },
  {
   "cell_type": "markdown",
   "metadata": {},
   "source": [
    "### 데이터 관리"
   ]
  },
  {
   "cell_type": "code",
   "execution_count": 324,
   "metadata": {},
   "outputs": [],
   "source": [
    "import pandas as pd\n",
    "\n",
    "# 도서관 정보나루 7월 인기대출도서 상위 5권(장르 및 null 값 전처리 적용)\n",
    "popular_loan_book= pd.read_csv(\"C:/Users/user/Desktop/library/popular_loan_book.csv\",encoding= 'CP949') \n",
    "\n",
    "# 인디펍 플랫폼 독립서적 2085건\n",
    "indi_book = pd.read_csv(\"C:/Users/user/Desktop/library/indi_book.csv\") \n",
    "indi_book = indi_book.drop(\"Unnamed: 0\", axis =1)\n"
   ]
  },
  {
   "cell_type": "markdown",
   "metadata": {},
   "source": [
    "### 데이터 전처리 "
   ]
  },
  {
   "cell_type": "code",
   "execution_count": 325,
   "metadata": {},
   "outputs": [
    {
     "name": "stdout",
     "output_type": "stream",
     "text": [
      "가져온 인디펍 플랫폼 독립서적 개수: 2085\n",
      "sparse한 데이터 삭제 후 인디펍 플랫폼 독립서적 개수: 1598\n"
     ]
    }
   ],
   "source": [
    "print(f\"가져온 인디펍 플랫폼 독립서적 개수: {len(indi_book)}\")\n",
    "\n",
    "# 빈 feature 값이 존재하는 데이터 삭제 \n",
    "indi_book = indi_book.dropna()\n",
    "\n",
    "print(f\"sparse한 데이터 삭제 후 인디펍 플랫폼 독립서적 개수: {len(indi_book)}\")"
   ]
  },
  {
   "cell_type": "code",
   "execution_count": 326,
   "metadata": {},
   "outputs": [
    {
     "name": "stdout",
     "output_type": "stream",
     "text": [
      "인디펍 플랫폼 독립서적 장르\n",
      "\n",
      "\n",
      "0                                                  시\n",
      "1                                                 동화\n",
      "4                                                에세이\n",
      "5                                                매거진\n",
      "6                                                 소설\n",
      "                            ...                     \n",
      "2027                                           자전적소설\n",
      "2035                                       에세이>한국에세이\n",
      "2036    예술/대중문화> 예술일반 예술이야기\\n\\n      가정/육아>자녀교육>놀이교육\n",
      "2038                                       문학>한국문학>시\n",
      "2041                                       여행에세이(남미)\n",
      "Name: 장르, Length: 152, dtype: object\n",
      "\n",
      "\n",
      "\n",
      "\n",
      "장르 전처리 후 인디펍 플랫폼 독립서적 장르\n",
      "\n",
      "\n",
      "0                시\n",
      "1               동화\n",
      "4              에세이\n",
      "5              매거진\n",
      "6               소설\n",
      "           ...    \n",
      "2009    에세이, 시, 소설\n",
      "2017           산문집\n",
      "2027         자전적소설\n",
      "2036          놀이교육\n",
      "2041     여행에세이(남미)\n",
      "Name: 장르, Length: 150, dtype: object\n"
     ]
    }
   ],
   "source": [
    "# 인디펍 플랫폼 독립서적 장르 표준화\n",
    "print(\"인디펍 플랫폼 독립서적 장르\")\n",
    "print(\"\\n\")\n",
    "print(indi_book[\"장르\"].drop_duplicates())\n",
    "\n",
    "print(\"\\n\")\n",
    "# 문학>한국문학>시 등 표준화가 되어있지 않기에 가장 마지막 > 뒤 장르로 변경 \n",
    "import re\n",
    "\n",
    "for index, genre in enumerate(indi_book[\"장르\"]):\n",
    "    match = re.search(r'>([^>]+)$', genre)\n",
    "    if match:\n",
    "        result = match.group(1)\n",
    "        indi_book.iloc[index,2] =  result\n",
    "    else:\n",
    "        indi_book.iloc[index,2] =  genre\n",
    "\n",
    "print(\"\\n\")\n",
    "print(\"장르 전처리 후 인디펍 플랫폼 독립서적 장르\")\n",
    "print(\"\\n\")\n",
    "print(indi_book[\"장르\"].drop_duplicates())"
   ]
  },
  {
   "cell_type": "code",
   "execution_count": 327,
   "metadata": {},
   "outputs": [
    {
     "name": "stdout",
     "output_type": "stream",
     "text": [
      "만화 및 동화 장르 제거 전 인디펍 플랫폼 독립서적 개수: 1598\n",
      "만화 및 동화 장르 제거 후 인디펍 플랫폼 독립서적 개수: 1410\n"
     ]
    }
   ],
   "source": [
    "# 인디펍 플랫폼 독립서적 중 만화 및 동화, 그림 장르 제외    \n",
    "\n",
    "print(f\"만화 및 동화 장르 제거 전 인디펍 플랫폼 독립서적 개수: {len(indi_book)}\")\n",
    "indi_book = indi_book.loc[~((indi_book[\"장르\"].str.contains(\"만화\")) | (indi_book[\"장르\"].str.contains(\"동화\"))  | (indi_book[\"장르\"].str.contains(\"일러스트\") | (indi_book[\"장르\"].str.contains(\"사진집\"))))]\n",
    "print(f\"만화 및 동화 장르 제거 후 인디펍 플랫폼 독립서적 개수: {len(indi_book)}\")"
   ]
  },
  {
   "cell_type": "code",
   "execution_count": 328,
   "metadata": {},
   "outputs": [],
   "source": [
    "# 인덱스 초기화 \n",
    "\n",
    "popular_loan_book = popular_loan_book.reset_index()\n",
    "popular_loan_book = popular_loan_book.drop(\"index\",axis=1)\n",
    "\n",
    "indi_book = indi_book.reset_index()\n",
    "indi_book = indi_book.drop(\"index\",axis=1)"
   ]
  },
  {
   "cell_type": "markdown",
   "metadata": {},
   "source": [
    "### document 생성 "
   ]
  },
  {
   "cell_type": "code",
   "execution_count": 329,
   "metadata": {},
   "outputs": [],
   "source": [
    "# 도서관 정보나루 7월 인기대출도서 문자열\n",
    "popular_loan_book_document = popular_loan_book[\"추천사\"] + popular_loan_book[\"책 속으로\"] + popular_loan_book[\"서평\"]\n",
    "\n",
    "# 인디펍 플랫폼 독립서적 문자열\n",
    "indi_book_document = indi_book[\"작가 소개\"] + indi_book[\"줄거리\"] + indi_book[\"책 속으로\"]"
   ]
  },
  {
   "cell_type": "code",
   "execution_count": 330,
   "metadata": {},
   "outputs": [
    {
     "name": "stderr",
     "output_type": "stream",
     "text": [
      "100%|██████████| 5/5 [00:01<00:00,  3.93it/s]\n",
      "100%|██████████| 1410/1410 [00:50<00:00, 27.81it/s]\n"
     ]
    }
   ],
   "source": [
    "from konlpy.tag import Okt\n",
    "import tqdm\n",
    "okt = Okt()\n",
    "\n",
    "# 도서관 정보나루 7월 인기대출도서에서 명사만 추출해낸 document\n",
    "popular_loan_book_document_lst = [] \n",
    "for documnet in tqdm.tqdm(popular_loan_book_document):\n",
    "    popular_loan_book_document_lst.append(okt.nouns(documnet))\n",
    "\n",
    "# 인디펍 플랫폼 독립서적에서 명사만 추출해낸 documnet \n",
    "indi_book_document_lst = [] \n",
    "for documnet in tqdm.tqdm(indi_book_document):\n",
    "    indi_book_document_lst.append(okt.nouns(documnet))"
   ]
  },
  {
   "cell_type": "code",
   "execution_count": 331,
   "metadata": {},
   "outputs": [],
   "source": [
    "# 불용어 제거 작업(한글자 단어 제거)\n",
    "popular_loan_book_document_lst_post = []\n",
    "for i in range(len(popular_loan_book_document_lst)):\n",
    "    cleaned_data = [word for word in popular_loan_book_document_lst[i] if len(word) !=1]\n",
    "    popular_loan_book_document_lst_post.append(cleaned_data)\n",
    "\n",
    "indi_book_document_lst_post = []\n",
    "for i in range(len(indi_book_document_lst)):\n",
    "    cleaned_data = [word for word in indi_book_document_lst[i] if len(word) !=1]\n",
    "    indi_book_document_lst_post.append(cleaned_data)"
   ]
  },
  {
   "cell_type": "markdown",
   "metadata": {},
   "source": [
    "### document 토큰화 수행 "
   ]
  },
  {
   "cell_type": "code",
   "execution_count": 332,
   "metadata": {},
   "outputs": [
    {
     "name": "stdout",
     "output_type": "stream",
     "text": [
      "Requirement already satisfied: sentencepiece in c:\\users\\user\\appdata\\local\\programs\\python\\python311\\lib\\site-packages (0.2.0)\n"
     ]
    },
    {
     "name": "stderr",
     "output_type": "stream",
     "text": [
      "\n",
      "[notice] A new release of pip is available: 23.1.2 -> 24.2\n",
      "[notice] To update, run: python.exe -m pip install --upgrade pip\n"
     ]
    }
   ],
   "source": [
    "!pip install sentencepiece\n",
    "import sentencepiece as spm"
   ]
  },
  {
   "cell_type": "code",
   "execution_count": 333,
   "metadata": {},
   "outputs": [],
   "source": [
    "import itertools\n",
    "import sentencepiece as spm\n",
    "# 독립 서적 데이터로 subword 사전 생성\n",
    "indi_book_document_lst_flatten = list(itertools.chain(*indi_book_document_lst_post))\n",
    "with open('indi_book_document_lst.txt', 'w', encoding='utf8') as f:\n",
    "    f.write('\\n'.join(indi_book_document_lst_flatten))"
   ]
  },
  {
   "cell_type": "code",
   "execution_count": 334,
   "metadata": {},
   "outputs": [],
   "source": [
    "# sentencePiece 모델 사전 사이즈를 2000으로 하여 더 많은 토큰화가 가능하게 함\n",
    "spm.SentencePieceTrainer.Train('--input=indi_book_document_lst.txt --model_prefix=indi_book_document_lst --vocab_size=5000 --model_type=bpe --max_sentence_length=9999')"
   ]
  },
  {
   "cell_type": "code",
   "execution_count": 335,
   "metadata": {},
   "outputs": [],
   "source": [
    "# subword 사전 정보 \n",
    "import csv\n",
    "vocab_list = pd.read_csv('indi_book_document_lst.vocab', sep='\\t', header=None, quoting=csv.QUOTE_NONE)"
   ]
  },
  {
   "cell_type": "code",
   "execution_count": 336,
   "metadata": {},
   "outputs": [
    {
     "data": {
      "text/plain": [
       "True"
      ]
     },
     "execution_count": 336,
     "metadata": {},
     "output_type": "execute_result"
    }
   ],
   "source": [
    "sp = spm.SentencePieceProcessor()\n",
    "vocab_file = \"indi_book_document_lst.model\"\n",
    "sp.load(vocab_file)"
   ]
  },
  {
   "cell_type": "code",
   "execution_count": 337,
   "metadata": {},
   "outputs": [
    {
     "name": "stderr",
     "output_type": "stream",
     "text": [
      "100%|██████████| 5/5 [00:00<00:00, 50.18it/s]\n"
     ]
    }
   ],
   "source": [
    "# 도서관 정보나루 7월 인기대출도서 document 토큰화\n",
    "\n",
    "import tqdm\n",
    "popular_loan_book_document_vector = []\n",
    "\n",
    "\n",
    "for sentence in tqdm.tqdm(popular_loan_book_document_lst_post):\n",
    "  popular_loan_book_document_vector.append(list(itertools.chain(*sp.encode(sentence, out_type=int))))\n"
   ]
  },
  {
   "cell_type": "code",
   "execution_count": 338,
   "metadata": {},
   "outputs": [
    {
     "name": "stderr",
     "output_type": "stream",
     "text": [
      "100%|██████████| 1410/1410 [00:01<00:00, 756.30it/s]\n"
     ]
    }
   ],
   "source": [
    "# 인디펍 플랫폼 독립서적 document 토큰화 \n",
    "\n",
    "indi_book_document_vector = []\n",
    "for sentence in tqdm.tqdm(indi_book_document_lst_post):\n",
    "  indi_book_document_vector.append(list(itertools.chain(*sp.encode(sentence, out_type=int))))"
   ]
  },
  {
   "cell_type": "code",
   "execution_count": 339,
   "metadata": {},
   "outputs": [],
   "source": [
    "# 이달의 추천 키워드 document 토큰화 \n",
    "\n",
    "keyword_document = \"인생 마음 삶 감정 생각 친구 눈물 비\" \n",
    "key_word_vector = sp.encode(keyword_document, out_type=int)"
   ]
  },
  {
   "cell_type": "markdown",
   "metadata": {},
   "source": [
    "### document vector 길이가 모두 다름 "
   ]
  },
  {
   "cell_type": "code",
   "execution_count": 340,
   "metadata": {},
   "outputs": [
    {
     "name": "stdout",
     "output_type": "stream",
     "text": [
      "도서관 정보나루 7월 인기대출도서 document 최대 길이: 1309\n",
      "도서관 정보나루 7월 인기대출도서 document 최소 길이: 531\n",
      "\n",
      "\n",
      "인디펍 플랫폼 독립서적 document 최대 길이: 1154\n",
      "인디펍 플랫폼 독립서적 document 최소 길이: 10\n",
      "\n",
      "\n",
      "키워드 document 길이: 9\n"
     ]
    }
   ],
   "source": [
    "print(f\"도서관 정보나루 7월 인기대출도서 document 최대 길이: {max(map(len, popular_loan_book_document_vector))}\")\n",
    "print(f\"도서관 정보나루 7월 인기대출도서 document 최소 길이: {min(map(len, popular_loan_book_document_vector))}\")\n",
    "print(\"\\n\")\n",
    "print(f\"인디펍 플랫폼 독립서적 document 최대 길이: {max(map(len, indi_book_document_vector))}\")\n",
    "print(f\"인디펍 플랫폼 독립서적 document 최소 길이: {min(map(len, indi_book_document_vector))}\")\n",
    "print(\"\\n\")\n",
    "print(f\"키워드 document 길이: {len(key_word_vector)}\")"
   ]
  },
  {
   "cell_type": "markdown",
   "metadata": {},
   "source": [
    "### 평균 vector 길이 이하 독립서적 인덱스를 걸러냄"
   ]
  },
  {
   "cell_type": "code",
   "execution_count": null,
   "metadata": {},
   "outputs": [],
   "source": [
    "few_indi_index = []\n",
    "indi_index = []\n",
    "indi_vec_num = [] \n",
    "\n",
    "for index,vector in enumerate(indi_book_document_vector):\n",
    "    indi_index.append(index)\n",
    "    indi_vec_num.append(len(vector))\n",
    "    if len(vector) < 209:\n",
    "        few_indi_index.append(index) "
   ]
  },
  {
   "cell_type": "code",
   "execution_count": 469,
   "metadata": {},
   "outputs": [
    {
     "name": "stdout",
     "output_type": "stream",
     "text": [
      "208.7695035460993\n"
     ]
    },
    {
     "data": {
      "image/png": "[encoded data removed]",
      "text/plain": [
       "<Figure size 1000x600 with 1 Axes>"
      ]
     },
     "metadata": {},
     "output_type": "display_data"
    }
   ],
   "source": [
    "import matplotlib.pyplot as plt\n",
    "plt.figure(figsize=(10, 6))\n",
    "plt.xlim(0, 1410)\n",
    "plt.bar(indi_index, indi_vec_num , color='skyblue')\n",
    "print(np.mean(indi_vec_num))"
   ]
  },
  {
   "cell_type": "markdown",
   "metadata": {},
   "source": [
    "\n",
    "#### 키워드 기반 독립 서적 추천을 위한 유사도로 각 단어의 빈도를 가중치로 하는 Weighted Jaccard similartiy를 사용\n",
    "#### 인기대출도서와 관련된 top3 독립서적추천을 위해 패딩이 적용된 코사인 유사도를 사용"
   ]
  },
  {
   "cell_type": "code",
   "execution_count": 399,
   "metadata": {},
   "outputs": [],
   "source": [
    "def Weighted_jaccard_similarity(target_vector, vector):\n",
    "    # 교집합 계산\n",
    "    intersection_word_lst = list(set(target_vector).intersection(set(vector)))\n",
    "    intersection_word_bin = [vector.count(word) for word in intersection_word_lst]\n",
    "\n",
    "    sum_bin = sum(intersection_word_bin)\n",
    "    weight_value = [(vector.count(word) / sum_bin) for word in intersection_word_lst]\n",
    "\n",
    "    intersection = sum(weight_value)\n",
    "    # 합집합 계산\n",
    "    union = len(set(target_vector).union(set(vector)))\n",
    "    # Weighted Jaccard similarity 계산\n",
    "    return intersection / union"
   ]
  },
  {
   "cell_type": "code",
   "execution_count": 400,
   "metadata": {},
   "outputs": [],
   "source": [
    "import numpy as np\n",
    "\n",
    "def pad_vectors(vec1, vec2):\n",
    "    # 두 벡터의 길이를 비교\n",
    "    len_diff = len(vec1) - len(vec2)\n",
    "    \n",
    "    # vec1이 길면 vec2를 패딩, vec2가 길면 vec1을 패딩\n",
    "    if len_diff > 0:\n",
    "        vec2 = np.pad(vec2, (0, len_diff), mode='constant')\n",
    "    elif len_diff < 0:\n",
    "        vec1 = np.pad(vec1, (0, -len_diff), mode='constant')\n",
    "    \n",
    "    return vec1, vec2\n",
    "\n",
    "def cosine_similarity(vec1, vec2):\n",
    "    # 벡터 패딩\n",
    "    vec1, vec2 = pad_vectors(vec1, vec2)\n",
    "    \n",
    "    # 벡터 내적\n",
    "    dot_product = np.dot(vec1, vec2)\n",
    "    \n",
    "    # 벡터의 크기(유클리드 거리)\n",
    "    norm_vec1 = np.linalg.norm(vec1)\n",
    "    norm_vec2 = np.linalg.norm(vec2)\n",
    "    \n",
    "    # 코사인 유사도 계산\n",
    "    cosine_sim = dot_product / (norm_vec1 * norm_vec2)\n",
    "    \n",
    "    return cosine_sim"
   ]
  },
  {
   "cell_type": "markdown",
   "metadata": {},
   "source": [
    "### 7월 키워드와 유사한 독립서적 필터링(이달의 독립서적)"
   ]
  },
  {
   "cell_type": "code",
   "execution_count": 402,
   "metadata": {},
   "outputs": [],
   "source": [
    "import numpy as np \n",
    "filtering_score = [] \n",
    "\n",
    "for index, indi_vector in enumerate(indi_book_document_vector):\n",
    "    if index not in few_indi_index:\n",
    "        filtering_score.append(Weighted_jaccard_similarity(key_word_vector, indi_vector))\n",
    "    else: \n",
    "        filtering_score.append(0)\n",
    " \n",
    "# 내림차순으로 top 15개 가져옴 \n",
    "filtering_index  = np.argsort(filtering_score)[-15:][::-1]\n",
    "filtering_indi_pool_index = list(filtering_index)\n",
    "keyword_candidate_indi_book_pool = indi_book.loc[filtering_indi_pool_index][\"서명\"]"
   ]
  },
  {
   "cell_type": "code",
   "execution_count": 406,
   "metadata": {},
   "outputs": [
    {
     "name": "stdout",
     "output_type": "stream",
     "text": [
      "이달의 독립서적 목록 \n",
      " \n",
      " 964                                            SEAGULL\n",
      "908                               어른이 되었지만 아직 배우는 중입니다\n",
      "1125                                           러시아 시화집\n",
      "38                                            당신의 판타지아\n",
      "1068                                    제주에서 내 식당 창업하기\n",
      "311                             여성들의 자궁 이야기: 임신 출산은 빼고\n",
      "1090                                          쓰레기 작업일지\n",
      "661                                  의사였다가 교수였다가 엄마였다가\n",
      "209                                      우리들의 혁신학교 이야기\n",
      "56                                             꽃이 온 마음\n",
      "21      아, 맞다. 내가 진료 중이었지? (부제 : 어느 어리버리 정신과 의사의 비밀일기)\n",
      "769          이제는 안 우울합니다만 - 우울증, 폭식증, 무기력증 10년 치료기&극복기\n",
      "941                                  ULC B: 공공예술로서의 조경\n",
      "218                                     사라질 것들을 사랑하는 일\n",
      "1072                                       파도시집선005 우울\n",
      "Name: 서명, dtype: object\n"
     ]
    }
   ],
   "source": [
    "print(f\"이달의 독립서적 목록 \\n \\n {keyword_candidate_indi_book_pool}\")"
   ]
  },
  {
   "cell_type": "markdown",
   "metadata": {},
   "source": [
    "### 도서관 정보나루 7월 인기대출도서와 연관있는 책 추천"
   ]
  },
  {
   "cell_type": "code",
   "execution_count": 473,
   "metadata": {},
   "outputs": [],
   "source": [
    "top_3 = []\n",
    "for i in range(len(popular_loan_book_document_vector)):\n",
    "    similarity_score = [] \n",
    "    for j in range(len(indi_book_document_vector)):\n",
    "        if j not in few_indi_index:\n",
    "            similarity_score.append(cosine_similarity(np.array(popular_loan_book_document_vector[i]), np.array(indi_book_document_vector[j])))\n",
    "        else:\n",
    "            similarity_score.append(-1)\n",
    "    # 유사도가 높은 순으로 top3 독립서적 추천\n",
    "    index = np.argsort(similarity_score)[-3:][::-1]\n",
    "    top_3.append([indi_book.loc[i,\"서명\"] for i in index ])"
   ]
  },
  {
   "cell_type": "code",
   "execution_count": 474,
   "metadata": {},
   "outputs": [
    {
     "name": "stdout",
     "output_type": "stream",
     "text": [
      "---불편한 편의점과 연관된 top3 독립서적--- \n",
      " \n",
      "  ['안녕하새오, 앵무새 치즈애오', '섭주', '목소리 가드닝 - 아름다운 목소리를 위한 보이스 트레이닝']\n",
      "\n",
      "\n",
      "---지구 끝의 온실과 연관된 top3 독립서적--- \n",
      " \n",
      "  ['붉은문_조선열녀문답사기(서울,경기편)', '어느 날, 이탈리아 소도시', '파리의 아메리카노']\n",
      "\n",
      "\n",
      "---밝은 밤 과 연관된 top3 독립서적--- \n",
      " \n",
      "  ['희망한 적 없는 희망퇴직', '살자편지', '광주 근현대미술의 주요 지점들']\n",
      "\n",
      "\n",
      "---아주 희미한 빛으로도과 연관된 top3 독립서적--- \n",
      " \n",
      "  ['기억의 저편', '희망한 적 없는 희망퇴직', '읽을지도, 그러다 떠날지도']\n",
      "\n",
      "\n",
      "---천 개의 파랑 과 연관된 top3 독립서적--- \n",
      " \n",
      "  ['부산 공공예술 탐구', '살자편지', '기억의 저편']\n",
      "\n",
      "\n"
     ]
    }
   ],
   "source": [
    "for i in range(len(popular_loan_book)):\n",
    "    print(f\"---{popular_loan_book.loc[i,'서명'] }과 연관된 top3 독립서적--- \\n \\n  {top_3[i]}\")\n",
    "    print(\"\\n\")"
   ]
  }
 ],
 "metadata": {
  "kernelspec": {
   "display_name": "Python 3",
   "language": "python",
   "name": "python3"
  },
  "language_info": {
   "codemirror_mode": {
    "name": "ipython",
    "version": 3
   },
   "file_extension": ".py",
   "mimetype": "text/x-python",
   "name": "python",
   "nbconvert_exporter": "python",
   "pygments_lexer": "ipython3",
   "version": "3.11.4"
  }
 },
 "nbformat": 4,
 "nbformat_minor": 2
}
